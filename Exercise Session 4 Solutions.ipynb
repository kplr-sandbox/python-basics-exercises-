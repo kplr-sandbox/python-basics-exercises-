{
 "cells": [
  {
   "cell_type": "code",
   "execution_count": 1,
   "metadata": {},
   "outputs": [
    {
     "name": "stdout",
     "output_type": "stream",
     "text": [
      "Fer is a red convertible worth $60000.00.\n",
      "Jump is a blue van worth $10000.00.\n"
     ]
    }
   ],
   "source": [
    "#1. Define a class for vehicles. Create two new vehicles called car1 and car2. \n",
    "#Set car1 to be a red convertible worth $60,000.00 with a name of Fer, \n",
    "#and car2 to be a blue van named Jump worth $10,000.00.\n",
    "class Vehicle:\n",
    "    name = \"\"\n",
    "    kind = \"car\"\n",
    "    color = \"\"\n",
    "    value = 100.00\n",
    "    def description(self):\n",
    "        desc_str = \"%s is a %s %s worth $%.2f.\" % (self.name, self.color, self.kind, self.value)\n",
    "        return desc_str\n",
    "\n",
    "# your code goes here\n",
    "car1 = Vehicle()\n",
    "car1.name = \"Fer\"\n",
    "car1.color = \"red\"\n",
    "car1.kind = \"convertible\"\n",
    "car1.value = 60000.00\n",
    "\n",
    "car2 = Vehicle()\n",
    "car2.name = \"Jump\"\n",
    "car2.color = \"blue\"\n",
    "car2.kind = \"van\"\n",
    "car2.value = 10000.00\n",
    "\n",
    "# test code\n",
    "print(car1.description())\n",
    "print(car2.description())"
   ]
  },
  {
   "cell_type": "code",
   "execution_count": 6,
   "metadata": {},
   "outputs": [
    {
     "name": "stdout",
     "output_type": "stream",
     "text": [
      "201.06192982974676\n",
      "50.26548245743669\n"
     ]
    }
   ],
   "source": [
    "#2. Define a class named Circle which can be constructed by a radius. \n",
    "#The Circle class has a method/functions which can compute the area.\n",
    "from math import pi\n",
    "class Circle:\n",
    "    def __init__(self, r):\n",
    "        self.radius = r\n",
    "\n",
    "    def area(self):\n",
    "        return self.radius**2*pi\n",
    "    \n",
    "    def perimeter(self):\n",
    "        return 2*self.radius*pi\n",
    "\n",
    "NewCircle = Circle(8)\n",
    "print(NewCircle.area())\n",
    "print(NewCircle.perimeter())"
   ]
  },
  {
   "cell_type": "code",
   "execution_count": 14,
   "metadata": {
    "scrolled": true
   },
   "outputs": [
    {
     "name": "stdout",
     "output_type": "stream",
     "text": [
      "a = 10, b= 8, Area= 80\n",
      "a = 13, b= 5, Area= 65\n",
      "a = 5, b= 1, Area= 5\n",
      "a = 11, b= 2, Area= 22\n",
      "a = 2, b= 14, Area= 28\n",
      "a = 9, b= 16, Area= 144\n",
      "a = 12, b= 5, Area= 60\n",
      "a = 7, b= 6, Area= 42\n",
      "a = 6, b= 8, Area= 48\n",
      "a = 9, b= 7, Area= 63\n"
     ]
    }
   ],
   "source": [
    "#3. Define a class named Rectangle which can be constructed by a length and width. \n",
    "#The Rectangle class has a method which can compute the area.\n",
    "import random\n",
    "class Rectangle:\n",
    "    def __init__(self, l, w):\n",
    "        self.length = l\n",
    "        self.width  = w\n",
    "\n",
    "    def rectangle_area(self):\n",
    "        return self.length*self.width\n",
    "    \n",
    "newRectangle=[]\n",
    "for i in range(10):\n",
    "    a,b=random.randint(1,20), random.randint(1,20)\n",
    "    newRectangle.append(Rectangle(a, b))\n",
    "    print('a = %d, b= %d, Area= %d' %  (a, b,newRectangle[i].rectangle_area() ))\n",
    "    \n"
   ]
  },
  {
   "cell_type": "code",
   "execution_count": 26,
   "metadata": {},
   "outputs": [
    {
     "name": "stdout",
     "output_type": "stream",
     "text": [
      "[64, 196, 289, 324, 361, 25, 4, 121, 36, 49]\n"
     ]
    }
   ],
   "source": [
    "#4. Define a class named Shape and its subclass Square. \n",
    "#The Square class has an init function which takes a length as argument. \n",
    "#Both classes have a area function which can print the area of the shape where Shape's area is 0 by default.\n",
    "class Shape:\n",
    "    def __init__(self):\n",
    "        pass\n",
    "\n",
    "    def area(self):\n",
    "        return 0\n",
    "\n",
    "class Square(Shape):\n",
    "    def __init__(self, l):\n",
    "        #Shape.__init__(self)\n",
    "        super().__init__()\n",
    "        self.length = l\n",
    "\n",
    "    def area(self):\n",
    "        return self.length*self.length\n",
    "    \n",
    "class Add_Members():\n",
    "    members=[]\n",
    "    areas=[]\n",
    "    def __init__(self):\n",
    "        pass\n",
    "    def add_squares(self,member):\n",
    "        self.members.append(member)\n",
    "        self.areas.append(member.area())\n",
    "    def print_areas(self):\n",
    "        return self.areas\n",
    "developer=Add_Members()\n",
    "for i in range(10):\n",
    "    a=random.randint(1,20)\n",
    "    developer.add_squares(Square(a))\n",
    "print(developer.print_areas())"
   ]
  },
  {
   "cell_type": "code",
   "execution_count": null,
   "metadata": {},
   "outputs": [],
   "source": []
  }
 ],
 "metadata": {
  "kernelspec": {
   "display_name": "Python 3",
   "language": "python",
   "name": "python3"
  },
  "language_info": {
   "codemirror_mode": {
    "name": "ipython",
    "version": 3
   },
   "file_extension": ".py",
   "mimetype": "text/x-python",
   "name": "python",
   "nbconvert_exporter": "python",
   "pygments_lexer": "ipython3",
   "version": "3.7.4"
  }
 },
 "nbformat": 4,
 "nbformat_minor": 2
}
