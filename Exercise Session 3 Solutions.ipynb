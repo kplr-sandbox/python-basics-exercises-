{
 "cells": [
  {
   "cell_type": "code",
   "execution_count": 1,
   "metadata": {},
   "outputs": [
    {
     "name": "stdout",
     "output_type": "stream",
     "text": [
      "6\n"
     ]
    }
   ],
   "source": [
    "#1.Write a Python function to find the Max of three numbers.\n",
    "def max_of_two( x, y ):\n",
    "    if x > y:\n",
    "        return x\n",
    "    return y\n",
    "def max_of_three( x, y, z ):\n",
    "    return max_of_two( x, max_of_two( y, z ) )\n",
    "print(max_of_three(3, 6, -5))\n"
   ]
  },
  {
   "cell_type": "code",
   "execution_count": 3,
   "metadata": {},
   "outputs": [
    {
     "name": "stdout",
     "output_type": "stream",
     "text": [
      "True\n"
     ]
    }
   ],
   "source": [
    "#2.Write a Python function to check whether a number is perfect or not.\n",
    "def perfect_number(n):\n",
    "    sum = 0\n",
    "    for x in range(1, n):\n",
    "        if n % x == 0:\n",
    "            sum += x\n",
    "    return sum == n\n",
    "print(perfect_number(28))\n",
    " "
   ]
  },
  {
   "cell_type": "code",
   "execution_count": 5,
   "metadata": {},
   "outputs": [
    {
     "data": {
      "text/plain": [
       "447.21359549995793"
      ]
     },
     "execution_count": 5,
     "metadata": {},
     "output_type": "execute_result"
    }
   ],
   "source": [
    "#3.Write a Python function to calculate economic order quantity of a supplier.\n",
    "import math\n",
    "def eoq(D,h,K):\n",
    "    q=math.sqrt(2*D*K/h)\n",
    "    return q\n",
    "eoq(1000,0.1,10)"
   ]
  },
  {
   "cell_type": "code",
   "execution_count": 8,
   "metadata": {},
   "outputs": [
    {
     "name": "stdout",
     "output_type": "stream",
     "text": [
      "Pattern found at index  0\n",
      "Pattern found at index  9\n",
      "Pattern found at index  13\n"
     ]
    }
   ],
   "source": [
    "#4.Given a text and a pattern, write a function that prints all occurrences of the pattern in text. \n",
    "def search(pat, txt): \n",
    "    M = len(pat) \n",
    "    N = len(txt) \n",
    "  \n",
    "    # A loop to slide pat[] one by one */ \n",
    "    for i in range(N - M + 1): \n",
    "        j = 0\n",
    "          \n",
    "        # For current index i, check  \n",
    "        # for pattern match */ \n",
    "        while(j < M): \n",
    "            if (txt[i + j] != pat[j]): \n",
    "                break\n",
    "            j += 1\n",
    "  \n",
    "        if (j == M):  \n",
    "            print(\"Pattern found at index \", i) \n",
    "            \n",
    "txt = \"AABAACAADAABAAABAA\"\n",
    "pat = \"AABA\"\n",
    "search(pat, txt) "
   ]
  },
  {
   "cell_type": "code",
   "execution_count": 6,
   "metadata": {},
   "outputs": [
    {
     "data": {
      "text/plain": [
       "[1, 3, 5, 6]"
      ]
     },
     "execution_count": 6,
     "metadata": {},
     "output_type": "execute_result"
    }
   ],
   "source": [
    "#5. Write a function that takes a list and return the list in sorted order. \n",
    "def sort(list):\n",
    "    for index in range(1,len(list)):\n",
    "        value = list[index]\n",
    "        i = index-1\n",
    "        while i>=0:\n",
    "            if value < list[i]:\n",
    "                list[i+1] ,list[i]=list[i], list[i+1]\n",
    "                i -= 1\n",
    "            else:\n",
    "                break\n",
    "    return list\n",
    "sort([5,3,6,1])"
   ]
  },
  {
   "cell_type": "code",
   "execution_count": 7,
   "metadata": {},
   "outputs": [
    {
     "data": {
      "text/plain": [
       "(5, 1, 4)"
      ]
     },
     "execution_count": 7,
     "metadata": {},
     "output_type": "execute_result"
    }
   ],
   "source": [
    "#6. Say you have an array for which the ith element is the price of a given stock on day i.\n",
    "#If you were only permitted to complete at most one transaction (i.e., buy one and sell one share of the stock), \n",
    "#design an algorithm to find the maximum profit. \n",
    "#For example, for [7,1,5,3,6,4],you can buy on day 2 (price = 1) and sell on day 5 (price = 6), profit = 6-1 = 5.\n",
    "def maxdiff(A):\n",
    "    if not A:\n",
    "        return 0\n",
    "    buy=A[0]   \n",
    "    buy_index=0\n",
    "    profit=0\n",
    "    sell_index=0\n",
    "    for j in range(len(A)):\n",
    "        if A[j]> buy:\n",
    "            if A[j]-buy > profit:\n",
    "                profit = A[j]-buy\n",
    "                sell_index = j\n",
    "                buy_index = A.index(buy)         \n",
    "        else:\n",
    "            buy=A[j]\n",
    "    \n",
    "    return profit, buy_index, sell_index    \n",
    "stock_prices=[7,1,5,3,6,4]\n",
    "maxdiff(stock_prices)"
   ]
  },
  {
   "cell_type": "code",
   "execution_count": 8,
   "metadata": {},
   "outputs": [
    {
     "name": "stdout",
     "output_type": "stream",
     "text": [
      "220\n"
     ]
    }
   ],
   "source": [
    "#7. Write a function that solves the 0-1 Knapsack problem and returns the maximum total value. \n",
    "#In 0-1 knapsack problem, we are given a set of n items. For each item i,\n",
    "#it has a value v(i) and a weight w(i) where 1 <= i <= n. We are given a maximum weight W. \n",
    "#The problem is to find a collection of items such that the total weight does not exceed W and the total value is maximized.\n",
    "#A collection of items means a subset of the set of all items. \n",
    "#Thus, an item can either be included just once or not included. \n",
    "def knapSack(W, wt, val, n): \n",
    "  \n",
    "    # Base Case \n",
    "    if n == 0 or W == 0 : \n",
    "        return 0\n",
    "  \n",
    "    # If weight of the nth item is more than Knapsack of capacity \n",
    "    # W, then this item cannot be included in the optimal solution \n",
    "    if (wt[n-1] > W): \n",
    "        return knapSack(W, wt, val, n-1) \n",
    "  \n",
    "    # return the maximum of two cases: \n",
    "    # (1) nth item included \n",
    "    # (2) not included \n",
    "    else: \n",
    "        return max(val[n-1] + knapSack(W-wt[n-1], wt, val, n-1), \n",
    "                   knapSack(W, wt, val, n-1)) \n",
    "  \n",
    "#To test above function \n",
    "val = [60, 100, 120] \n",
    "wt = [10, 20, 30] \n",
    "W = 50\n",
    "n = len(val) \n",
    "print(knapSack(W, wt, val, n))"
   ]
  },
  {
   "cell_type": "code",
   "execution_count": null,
   "metadata": {},
   "outputs": [],
   "source": []
  }
 ],
 "metadata": {
  "kernelspec": {
   "display_name": "Python 3",
   "language": "python",
   "name": "python3"
  },
  "language_info": {
   "codemirror_mode": {
    "name": "ipython",
    "version": 3
   },
   "file_extension": ".py",
   "mimetype": "text/x-python",
   "name": "python",
   "nbconvert_exporter": "python",
   "pygments_lexer": "ipython3",
   "version": "3.7.4"
  }
 },
 "nbformat": 4,
 "nbformat_minor": 2
}
