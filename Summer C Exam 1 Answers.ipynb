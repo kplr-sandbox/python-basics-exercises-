{
 "cells": [
  {
   "cell_type": "code",
   "execution_count": 3,
   "metadata": {},
   "outputs": [
    {
     "name": "stdout",
     "output_type": "stream",
     "text": [
      "[1, 2, 3, 4]\n",
      "[3, 5, 7]\n",
      "[8, 12]\n",
      "[20]\n"
     ]
    },
    {
     "data": {
      "text/plain": [
       "[20]"
      ]
     },
     "execution_count": 3,
     "metadata": {},
     "output_type": "execute_result"
    }
   ],
   "source": [
    "#Problem 1\n",
    "def fun(alist):\n",
    "    print(alist)\n",
    "    if len(alist)==1:\n",
    "        return alist\n",
    "    blist=[]\n",
    "    for i in range(len(alist)-1):\n",
    "        blist.append(alist[i]+alist[i+1])\n",
    "    return fun(blist)\n",
    "fun([1,2,3,4])"
   ]
  },
  {
   "cell_type": "code",
   "execution_count": 5,
   "metadata": {},
   "outputs": [
    {
     "name": "stdout",
     "output_type": "stream",
     "text": [
      "[1, 2, 3, 4]\n",
      "[3, 5, 7]\n",
      "[8, 12]\n",
      "[20]\n"
     ]
    },
    {
     "data": {
      "text/plain": [
       "[20]"
      ]
     },
     "execution_count": 5,
     "metadata": {},
     "output_type": "execute_result"
    }
   ],
   "source": [
    "#or\n",
    "def fun(alist):\n",
    "    print(alist)\n",
    "    if len(alist)==1:\n",
    "        return alist\n",
    "    for i in range(len(alist)-1):\n",
    "        alist[i]=alist[i]+alist[i+1]\n",
    "    alist.pop()\n",
    "    return fun(alist)\n",
    "fun([1,2,3,4])"
   ]
  },
  {
   "cell_type": "code",
   "execution_count": 47,
   "metadata": {},
   "outputs": [],
   "source": [
    "#Problem 2\n",
    "class Test:\n",
    "    def __init__(self, coursename, answerkey, passmark):\n",
    "        self.coursename=coursename\n",
    "        self.answerkey=answerkey\n",
    "        self.passmark=passmark\n",
    "        \n",
    "class Student:\n",
    "    def __init__(self):\n",
    "        self.test_taken={}\n",
    "    def take_test(self, test, scantron):\n",
    "        result='Fail'\n",
    "        score=0\n",
    "        for val in scantron:\n",
    "            if val in test.answerkey:\n",
    "                score+=20\n",
    "        if (score/100)>=test.passmark:\n",
    "            result=\"Pass\"\n",
    "        self.test_taken[test.coursename]={\"Score\": score, \"Result\": result}\n",
    "        return self.test_taken\n",
    "        \n"
   ]
  },
  {
   "cell_type": "code",
   "execution_count": 50,
   "metadata": {},
   "outputs": [
    {
     "name": "stdout",
     "output_type": "stream",
     "text": [
      "{}\n",
      "{'Mathematics': {'Score': 40, 'Result': 'Fail'}}\n",
      "{'Mathematics': {'Score': 40, 'Result': 'Fail'}, 'Physics': {'Score': 40, 'Result': 'Fail'}}\n",
      "{'Mathematics': {'Score': 40, 'Result': 'Fail'}, 'Physics': {'Score': 40, 'Result': 'Fail'}}\n",
      "Mathematics test average: 18.0\n",
      "Physics test pass rate: 10.0%\n"
     ]
    }
   ],
   "source": [
    "import random\n",
    "choice_list=['A', 'B', 'C', 'D', 'E']\n",
    "MATH=Test('Mathematics', ['1A', '2B', '3C', '4D', '5E'], 0.80)\n",
    "PHY=Test('Physics', ['1E', '2D', '3C', '4B', '5A'], 0.60)\n",
    "student_list=[]\n",
    "for i in range(10):\n",
    "    student_list.append((Student(),[],[]))\n",
    "    for j in range(5):\n",
    "        student_list[i][1].append(str(j+1)+random.choice(choice_list))\n",
    "        student_list[i][2].append(str(j+1)+random.choice(choice_list))    \n",
    "print(student_list[0][0].test_taken)\n",
    "print(student_list[0][0].take_test(MATH,student_list[0][1]))\n",
    "print(student_list[0][0].take_test(PHY,student_list[0][2]))\n",
    "print(student_list[0][0].test_taken)\n",
    "\n",
    "average=0\n",
    "count=0\n",
    "for i in range(10):\n",
    "    student_list[i][0].take_test(MATH,student_list[i][1])\n",
    "    student_list[i][0].take_test(PHY,student_list[i][2])\n",
    "    average+=(student_list[i][0].test_taken['Mathematics'][\"Score\"])/10\n",
    "    if student_list[i][0].test_taken['Physics'][\"Result\"]=='Pass':\n",
    "        count+=1/10\n",
    "print('Mathematics test average: ' + str(average))\n",
    "print('Physics test pass rate: ' + str(count*100) +'%')\n"
   ]
  },
  {
   "cell_type": "code",
   "execution_count": 47,
   "metadata": {},
   "outputs": [
    {
     "name": "stdout",
     "output_type": "stream",
     "text": [
      "165580141 102334155 1.618033988749895\n"
     ]
    }
   ],
   "source": [
    "## Problem 3\n",
    "golden=1.61803398874989484820\n",
    "fib=[0, 1, 1]\n",
    "# for i  in range(1,len(fib)-1):\n",
    "#     print(fib[i+1]/fib[i])\n",
    "    \n",
    "while abs((fib[-1]/fib[-2])-golden)>1e-20:\n",
    "    fib.append(fib[-2]+fib[-1])\n",
    "print(fib[-1], fib[-2],fib[-1]/fib[-2] )"
   ]
  },
  {
   "cell_type": "code",
   "execution_count": 49,
   "metadata": {},
   "outputs": [
    {
     "data": {
      "text/plain": [
       "['in',\n",
       " 'spite',\n",
       " 'of',\n",
       " 'war',\n",
       " 'hate',\n",
       " 'lilacs',\n",
       " 'are',\n",
       " 'at',\n",
       " 'my',\n",
       " 'gate',\n",
       " 'the',\n",
       " 'glory',\n",
       " 'just',\n",
       " 'to',\n",
       " 'live',\n",
       " 'is',\n",
       " 'so',\n",
       " 'divine',\n",
       " 'when',\n",
       " 'lift',\n",
       " 'their',\n",
       " 'eyes',\n",
       " 'mine']"
      ]
     },
     "execution_count": 49,
     "metadata": {},
     "output_type": "execute_result"
    }
   ],
   "source": [
    "#Problem 4\n",
    "import random\n",
    "wordlist=['in','spite','of','war','in', 'spite','of', 'hate', 'lilacs', 'are', 'blooming','at','my','gate','tulips','are','tripping', 'down', 'the','path', 'in','spite','of','war','in','spite','of','wrath','courage','the','morning','glory','saith','rejoice','the','daisy','murmureth','and','just','to','live','is','so','divine','when','pansies','lift','their','eyes','to','mine']\n",
    "longstring='nofqcrkijubncuumqighifnlespwbsztqzrgpeylnifkdhfdhfhneylipiyjlvcprisnzkkqynqsdwlabbcveorfsnntlyteqnrn'\n",
    "found=[]\n",
    "for aword in wordlist:  \n",
    "    if aword in found:\n",
    "        continue\n",
    "    j=0\n",
    "    for i in longstring:\n",
    "        if aword[j]==i:\n",
    "            j+=1\n",
    "        if j==len(aword):\n",
    "            found.append(aword)\n",
    "            break\n",
    "    \n",
    "found   "
   ]
  }
 ],
 "metadata": {
  "kernelspec": {
   "display_name": "Python 3",
   "language": "python",
   "name": "python3"
  },
  "language_info": {
   "codemirror_mode": {
    "name": "ipython",
    "version": 3
   },
   "file_extension": ".py",
   "mimetype": "text/x-python",
   "name": "python",
   "nbconvert_exporter": "python",
   "pygments_lexer": "ipython3",
   "version": "3.7.4"
  }
 },
 "nbformat": 4,
 "nbformat_minor": 2
}
