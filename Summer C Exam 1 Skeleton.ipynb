{
 "cells": [
  {
   "cell_type": "code",
   "execution_count": null,
   "metadata": {},
   "outputs": [],
   "source": [
    "'''Type your name here:_________________________________________'''"
   ]
  },
  {
   "cell_type": "code",
   "execution_count": null,
   "metadata": {},
   "outputs": [],
   "source": [
    "#Problem 1\n",
    "'''Fill fun function.'''\n",
    "def fun(alist):\n",
    "    \n",
    "    \n",
    "    \n",
    "    \n",
    "    \n",
    "    \n"
   ]
  },
  {
   "cell_type": "code",
   "execution_count": null,
   "metadata": {},
   "outputs": [],
   "source": [
    "'''Test the function.'''\n",
    "fun([1,2,3,4]) "
   ]
  },
  {
   "cell_type": "code",
   "execution_count": null,
   "metadata": {},
   "outputs": [],
   "source": [
    "#Problem 2\n",
    "class Test:\n",
    "    def __init__(self, coursename, answerkey, passmark):\n",
    "        self.coursename = coursename\n",
    "        self.answerkey = answerkey\n",
    "        self.passmark = passmark\n",
    "        \n",
    "class Student:\n",
    "    def __init__(self):\n",
    "        self.test_taken = {}\n",
    "    '''Fill take_test function for part c.'''    \n",
    "    def take_test(self, test, scantron):\n",
    "        "
   ]
  },
  {
   "cell_type": "code",
   "execution_count": null,
   "metadata": {},
   "outputs": [],
   "source": [
    "MATH = Test('Mathematics', ['1A', '2B', '3C', '4D', '5E'], 0.80)\n",
    "PHY = Test('Physics', ['1E', '2D', '3C', '4B', '5A'], 0.60)\n",
    "choice_list = ['A', 'B', 'C', 'D', 'E']\n",
    "student_list=[]\n",
    "\n",
    "\"\"\"Write code for parts a, b, d, and e below this comment.\"\"\"\n",
    "\n"
   ]
  },
  {
   "cell_type": "code",
   "execution_count": null,
   "metadata": {},
   "outputs": [],
   "source": [
    "# Problem 3\n",
    "golden = 1.61803398874989484820\n",
    "fib = [0, 1, 1, 2, 3]\n",
    "'''Type your code below'''"
   ]
  },
  {
   "cell_type": "code",
   "execution_count": null,
   "metadata": {},
   "outputs": [],
   "source": [
    "#Problem 4\n",
    "wordlist=['in','spite','of','war','in', 'spite','of', 'hate', 'lilacs', 'are', 'blooming','at','my','gate','tulips','are','tripping', 'down', 'the','path', 'in','spite','of','war','in','spite','of','wrath','courage','the','morning','glory','saith','rejoice','the','daisy','murmureth','and','just','to','live','is','so','divine','when','pansies','lift','their','eyes','to','mine']\n",
    "longstring='nofqcrkijubncuumqighifnlespwbsztqzrgpeylnifkdhfdhfhneylipiyjlvcprisnzkkqynqsdwlabbcveorfsnntlyteqnrn'\n",
    "sub=[]\n",
    "'''Type your code below'''\n",
    "\n"
   ]
  },
  {
   "cell_type": "code",
   "execution_count": null,
   "metadata": {},
   "outputs": [],
   "source": [
    "'''Test your code.'''\n",
    "print(sub)"
   ]
  }
 ],
 "metadata": {
  "kernelspec": {
   "display_name": "Python 3",
   "language": "python",
   "name": "python3"
  },
  "language_info": {
   "codemirror_mode": {
    "name": "ipython",
    "version": 3
   },
   "file_extension": ".py",
   "mimetype": "text/x-python",
   "name": "python",
   "nbconvert_exporter": "python",
   "pygments_lexer": "ipython3",
   "version": "3.7.4"
  }
 },
 "nbformat": 4,
 "nbformat_minor": 2
}
